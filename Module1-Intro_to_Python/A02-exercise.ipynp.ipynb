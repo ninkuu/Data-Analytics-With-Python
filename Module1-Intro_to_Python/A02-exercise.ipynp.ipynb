{
  "metadata": {
    "language_info": {
      "codemirror_mode": {
        "name": "python",
        "version": 3
      },
      "file_extension": ".py",
      "mimetype": "text/x-python",
      "name": "python",
      "nbconvert_exporter": "python",
      "pygments_lexer": "ipython3",
      "version": "3.8"
    },
    "kernelspec": {
      "name": "python",
      "display_name": "Python (Pyodide)",
      "language": "python"
    }
  },
  "nbformat_minor": 4,
  "nbformat": 4,
  "cells": [
    {
      "cell_type": "markdown",
      "source": "# Header\nThe header is above",
      "metadata": {}
    },
    {
      "cell_type": "markdown",
      "source": "**Bold** font stands more than standard font\n",
      "metadata": {}
    },
    {
      "cell_type": "markdown",
      "source": "*Italicizing* font is another way of helping font stand out",
      "metadata": {}
    },
    {
      "cell_type": "markdown",
      "source": "you can combine both *italicized* and **bold** font into ***one bold and italized section***",
      "metadata": {}
    },
    {
      "cell_type": "markdown",
      "source": "Sometimes organizing your text spacially helps with interpretation\nFor example:\n- bullets \n- numbers\n- letters\n",
      "metadata": {}
    },
    {
      "cell_type": "markdown",
      "source": "Let's try formulas",
      "metadata": {}
    },
    {
      "cell_type": "code",
      "source": "# This code cell will run the code for 2 plus 2\n2 + 2",
      "metadata": {
        "trusted": true
      },
      "execution_count": 5,
      "outputs": [
        {
          "execution_count": 5,
          "output_type": "execute_result",
          "data": {
            "text/plain": "4"
          },
          "metadata": {}
        }
      ]
    },
    {
      "cell_type": "markdown",
      "source": "The raw cell will not be able to run the code for 2 plus 2, but you can see it\n\n2 + 2",
      "metadata": {}
    },
    {
      "cell_type": "code",
      "source": "",
      "metadata": {},
      "execution_count": null,
      "outputs": []
    }
  ]
}