{
 "cells": [
  {
   "cell_type": "markdown",
   "metadata": {},
   "source": [
    "# Assignment 7: Matplotlib"
   ]
  },
  {
   "cell_type": "markdown",
   "metadata": {},
   "source": [
    "## Learning Objectives\n",
    "This lesson meets the following learning objectives:\n",
    "- The ability to visualize data using Matplotlib"
   ]
  },
  {
   "cell_type": "markdown",
   "metadata": {},
   "source": [
    "## Instructions\n",
    "Read through all of the text in this page. This assignment provides step-by-step training divided into numbered sections. The sections often contain embeded exectable code for demonstration.  Section headers with icons have special meanings:  \n",
    "\n",
    "- <i class=\"fas fa-puzzle-piece\"></i> The puzzle icon indicates that the section provides a practice exercise that must be completed.  Follow the instructions for the exercise and do what it asks.  Exercises must be turned in for credit.\n",
    "- <i class=\"fa fa-cogs\"></i> The cogs icon indicates that the section provides a task to perform.  Follow the instructions to complete the task.  Tasks are not turned in for credit but must be completed to continue progress.\n",
    "\n",
    "Review the list of items in the **Expected Outcomes** section to check that you feel comfortable with the material you just learned. If you do not, then take some time to re-review that material again. If after re-review you are not comfortable, do not feel confident or do not understand the material, please ask questions on Slack to help.\n",
    "\n",
    "Follow the instructions in the **What to turn in** section to turn in the exercises of the assginment for course credit."
   ]
  },
  {
   "cell_type": "markdown",
   "metadata": {},
   "source": [
    "## Background\n",
    "\n",
    "**What is `Matplotlib`?**\n",
    "\n",
    "> Matplotlib is a Python 2D plotting library which produces publication quality figures in a variety of hardcopy formats and interactive environments across platforms. Matplotlib can be used in Python scripts, the Python and IPython shells, the Jupyter notebook, web application servers, and four graphical user interface toolkits.\n",
    "\n",
    "`Matplotlib` will be our introduction to the world of displaying data in Python. "
   ]
  },
  {
   "cell_type": "markdown",
   "metadata": {},
   "source": [
    "### Package Overview\n",
    "\n",
    "**What tools, objects or functions does this package provide?**\n",
    "\n",
    "The hierarchy of objects and functions is not as simple or as delinated as we observed in `numpy` or `pandas`, but we get a few major objects from `matplotlib`.\n",
    "\n",
    "+ `Figure`\n",
    "+ `Axes`\n",
    "+ `Artist` \n",
    "\n",
    "We will almost entirely concern ourselves with the `Figure` and `Axes` objects."
   ]
  },
  {
   "cell_type": "markdown",
   "metadata": {},
   "source": [
    "### Other Learning Resources\n",
    "\n",
    "+ [DataCamp Cheat Sheet](https://s3.amazonaws.com/assets.datacamp.com/blog_assets/Python_Matplotlib_Cheat_Sheet.pdf)\n",
    "+ [Official User's Guide](https://matplotlib.org/users/index.html)"
   ]
  },
  {
   "cell_type": "markdown",
   "metadata": {},
   "source": [
    "## Coding Styles\n",
    "\n",
    "There are two ways to write your code using the matplotlib library. These are referred to as:\n",
    "- the Pyplot API approach\n",
    "- the object-oriented API approach.\n",
    "\n",
    "In this tutorial we will teach the object-oriented API approach. You will often find online documentation using the Pyplot approach. The Pyplot approach may be easier to work with initially, but the object-oriented approach is more flexible. In fact, the documenation states:\n",
    "\n",
    "> the pyplot API is generally less-flexible than the object-oriented API."
   ]
  },
  {
   "cell_type": "markdown",
   "metadata": {},
   "source": [
    "## <i class=\"fa fa-cogs\"></i> Notebook Setup\n",
    "\n",
    "As before, we import any needed packages at the top of our notebook. This time we will import `numpy`, `pandas` and `matplotlib`.\n",
    "\n",
    "The first thing you will notice is that our style of importing for `matplotlib` is a little different. Unlike other packages, we import `matplotlib.pyplot` instead of just `matplotlib`.  We will refer to this library as simply `Pyplot`. Therefore, function calls are from the `Pyplot` library. The documentation notes the following:\n",
    "\n",
    ">`Pyplot` provides the state-machine interface to the underlying object-oriented plotting library. The state-machine implicitly and automatically creates figures and axes to achieve the desired plot. \n",
    "\n",
    "When working interactively in a jupyter notebook we need to use `magic` command that will instruct the Jupyter instance to display `matplotlib` plots inline. In this case, we will use the `%matplotlib inline` instruction."
   ]
  },
  {
   "cell_type": "markdown",
   "metadata": {},
   "source": [
    "Let's get started by importing the required libraries and setting the magic for inline plots."
   ]
  },
  {
   "cell_type": "code",
   "execution_count": 1,
   "metadata": {},
   "outputs": [],
   "source": [
    "import numpy as np\n",
    "import pandas as pd\n",
    "import matplotlib.pyplot as plt\n",
    "\n",
    "%matplotlib inline"
   ]
  },
  {
   "cell_type": "markdown",
   "metadata": {},
   "source": [
    "The iris dataframe that we used in the Pandas tutorials will serve as our demo data to plot, load that here:"
   ]
  },
  {
   "cell_type": "code",
   "execution_count": 2,
   "metadata": {},
   "outputs": [
    {
     "data": {
      "text/html": [
       "<div>\n",
       "<style scoped>\n",
       "    .dataframe tbody tr th:only-of-type {\n",
       "        vertical-align: middle;\n",
       "    }\n",
       "\n",
       "    .dataframe tbody tr th {\n",
       "        vertical-align: top;\n",
       "    }\n",
       "\n",
       "    .dataframe thead th {\n",
       "        text-align: right;\n",
       "    }\n",
       "</style>\n",
       "<table border=\"1\" class=\"dataframe\">\n",
       "  <thead>\n",
       "    <tr style=\"text-align: right;\">\n",
       "      <th></th>\n",
       "      <th>sepal_length</th>\n",
       "      <th>sepal_width</th>\n",
       "      <th>petal_length</th>\n",
       "      <th>petal_width</th>\n",
       "      <th>species</th>\n",
       "    </tr>\n",
       "  </thead>\n",
       "  <tbody>\n",
       "    <tr>\n",
       "      <th>0</th>\n",
       "      <td>5.1</td>\n",
       "      <td>3.5</td>\n",
       "      <td>1.4</td>\n",
       "      <td>0.2</td>\n",
       "      <td>setosa</td>\n",
       "    </tr>\n",
       "    <tr>\n",
       "      <th>1</th>\n",
       "      <td>4.9</td>\n",
       "      <td>3.0</td>\n",
       "      <td>1.4</td>\n",
       "      <td>0.2</td>\n",
       "      <td>setosa</td>\n",
       "    </tr>\n",
       "  </tbody>\n",
       "</table>\n",
       "</div>"
      ],
      "text/plain": [
       "   sepal_length  sepal_width  petal_length  petal_width species\n",
       "0           5.1          3.5           1.4          0.2  setosa\n",
       "1           4.9          3.0           1.4          0.2  setosa"
      ]
     },
     "execution_count": 2,
     "metadata": {},
     "output_type": "execute_result"
    }
   ],
   "source": [
    "df = pd.read_csv('data/iris.csv')\n",
    "iris = pd.read_csv('data/iris.csv')\n",
    "df.head(2)"
   ]
  },
  {
   "cell_type": "markdown",
   "metadata": {},
   "source": [
    "### Required Data Types\n",
    "\n",
    "All of the plotting functions provided by `Pyplot` expect Numpy arrays as input. If your data is in Pandas series or data frames it is best to convert them first to Numpy arrays before you plot.  Recall that we can convert any column of a data frame to a Numpy array. Each column is a `pd.Series` which we can get from the `DataFrame` by its label, and then convert the series to a `np.array` using the `values` property or the `to_array()` function.  For example, the following code demonstrates that the `.values` property of a column from our iris data is a Numpy array:"
   ]
  },
  {
   "cell_type": "code",
   "execution_count": 3,
   "metadata": {},
   "outputs": [
    {
     "data": {
      "text/plain": [
       "numpy.ndarray"
      ]
     },
     "execution_count": 3,
     "metadata": {},
     "output_type": "execute_result"
    }
   ],
   "source": [
    "type(df['sepal_length'].values)"
   ]
  },
  {
   "cell_type": "markdown",
   "metadata": {},
   "source": [
    "## 1. The `Figure`\n",
    "\n",
    "To get started, examine and execute the code below. It creates a scatterplot of the `sepal_length` vs `sepal_width` from the iris dataset. The code performs three tasks (we will explain these in more detail later):\n",
    "- It creates a new figure object\n",
    "- Adds an axes to the figure as part of a \"subplot\" arrangement.\n",
    "- Plots a scatterplot between two Numpy arrays of data:\n"
   ]
  },
  {
   "cell_type": "code",
   "execution_count": 16,
   "metadata": {},
   "outputs": [
    {
     "data": {
      "image/png": "[encoded data removed]",
      "text/plain": [
       "<Figure size 640x480 with 1 Axes>"
      ]
     },
     "metadata": {},
     "output_type": "display_data"
    }
   ],
   "source": [
    "fig = plt.figure()\n",
    "ax = fig.add_subplot(1, 1, 1)\n",
    "ax.scatter(df['sepal_length'].values, df['sepal_width'].values)\n",
    "plt.show()"
   ]
  },
  {
   "cell_type": "markdown",
   "metadata": {},
   "source": [
    "Alternatively, the plot above can also be generated in one line:"
   ]
  },
  {
   "cell_type": "code",
   "execution_count": null,
   "metadata": {},
   "outputs": [],
   "source": [
    "plt.scatter(df['sepal_length'].values, df['sepal_width'].values);"
   ]
  },
  {
   "cell_type": "markdown",
   "metadata": {},
   "source": [
    "While the second form is useful for simple plots, it can become unwieldy for more complex plots. Therefore, for both clarity, and to understand `matplotlib` we will use the more explicit form.  This approach should help in avoiding some pitfalls and confusion.  "
   ]
  },
  {
   "cell_type": "markdown",
   "metadata": {},
   "source": [
    "## 1.1 Parts of a Figure\n",
    "\n",
    "The following figure provided by the [Matplotlib documentation](https://matplotlib.org/2.1.2/tutorials/introductory/usage.html) indicates the location and the names of elements used by this package for the plots it produces. Take a moment to explore the labels on the figure.\n",
    "\n",
    "![Parts of a figure](./media/A07-anatomy.png)\n",
    "\n",
    "> The [Pyplot] figure [object] keeps track of all the child axes, a smattering of 'special' artists (titles, figure legends, etc), and the canvas. (Don't worry too much about the canvas, it is crucial as it is the object that actually does the drawing to get you your plot, but as the user it is more-or-less invisible to you). A figure can have any number of axes, but to be useful should have at least one."
   ]
  },
  {
   "cell_type": "markdown",
   "metadata": {},
   "source": [
    "### 1.2 Creating a Figure\n",
    "To create a figure we must first call the `plt.figure()` function. As shown in the code below we are passing our new figure to a variable named `fig`:"
   ]
  },
  {
   "cell_type": "code",
   "execution_count": null,
   "metadata": {},
   "outputs": [],
   "source": [
    "fig = plt.figure()"
   ]
  },
  {
   "cell_type": "markdown",
   "metadata": {},
   "source": [
    "Observe that the fig is a default 'empty' figure of size 432x288 pixels with no axes.  A figure created in this way will be empty.\n"
   ]
  },
  {
   "cell_type": "markdown",
   "metadata": {},
   "source": [
    "### 1.3 Subplots (a.k.a. Axes)\n",
    "\n",
    "A figure created with matplotlib can have multiple axes objects. Consider the image below, it contains 4 subplots (i.e. four different axes objects) arranged in a 2x2 grid:\n",
    "\n",
    "![subplots](./media/A07-sphx_glr_usage_002.png)\n",
    "\n",
    "To add an `axes` to the figure (named `fig`) we can call a method named `add_axes()`.  If you [read the documenation](https://matplotlib.org/api/_as_gen/matplotlib.figure.Figure.html#matplotlib.figure.Figure.add_axes) of that function you will find that it takes four arguments. However, there is a convenience function named `add_subplot()` that makes it easier to add an axis and we will use that instead. You will notice as you learn more about plotting libraries that having convenience functions is common. By using them, we avoid calling a 'lower-level' function. The 'higher-level' convenience function then calls the low-level functions with reasonable defaults.\n",
    "\n",
    "\n",
    "The [add_subplot documentation](https://matplotlib.org/api/_as_gen/matplotlib.figure.Figure.html#matplotlib.figure.Figure.add_subplot) indicates that that `add_subplot` can be called in multple ways:\n",
    "\n",
    "```\n",
    "add_subplot(nrows, ncols, index, **kwargs)\n",
    "add_subplot(pos, **kwargs)\n",
    "add_subplot(ax)\n",
    "```\n",
    "\n",
    "We will use the first form in this tutorial:"
   ]
  },
  {
   "cell_type": "code",
   "execution_count": null,
   "metadata": {},
   "outputs": [],
   "source": [
    "fig = plt.figure(figsize=(15,5))\n",
    "ax = fig.add_subplot(1, 3, 1)\n",
    "ax2 = fig.add_subplot(1, 3, 2)\n",
    "ax3 = fig.add_subplot(1, 3, 3)\n",
    "ax.scatter(df['sepal_length'], df['sepal_width'])\n",
    "ax2.scatter(df['sepal_width'], df['sepal_width'])\n",
    "ax3.scatter(df['sepal_width'], df['sepal_length'])"
   ]
  },
  {
   "cell_type": "markdown",
   "metadata": {},
   "source": [
    "The code above provides 1's to the `nrows`, `ncols` and `index` arguments.  This means that our grid is a 1 x 1 grid. The 3rd argument, the `index`, indicates which \"cell\" the axes will be drawn in. Since we only have one \"cell\" this argument is 1."
   ]
  },
  {
   "cell_type": "markdown",
   "metadata": {},
   "source": [
    "### 1.4 Plotting\n",
    "\n",
    "Now that we have indicated the plots and added axes, we want to add a plot.  To demonstrate this we will add a scatterplot using data from the iris dataset.  To add points we call the `scatter()` method from the `axes` object we created.  This draws the given points to the `ax` object."
   ]
  },
  {
   "cell_type": "code",
   "execution_count": null,
   "metadata": {},
   "outputs": [],
   "source": [
    "fig = plt.figure()\n",
    "ax = fig.add_subplot(1, 1, 1)\n",
    "ax.scatter(df['sepal_length'], df['sepal_width'])"
   ]
  },
  {
   "cell_type": "code",
   "execution_count": null,
   "metadata": {},
   "outputs": [],
   "source": [
    "# fig = plt.figure()\n",
    "# ax = fig.add_subplot(1, 1, 1)\n",
    "ax.scatter(df['sepal_length'], df['sepal_width'])"
   ]
  },
  {
   "cell_type": "markdown",
   "metadata": {},
   "source": [
    "Notice at the top of the figure is text similar to `<matplotlib.collections.PathCollection at 0x7fcd440985f8>`. This is a side effect of not explicitly \"drawing\" the figure but letting the notebook \"print\" the last object. We can exclude this text by calling the `plt.show` function."
   ]
  },
  {
   "cell_type": "code",
   "execution_count": null,
   "metadata": {},
   "outputs": [],
   "source": [
    "fig = plt.figure()\n",
    "ax = fig.add_subplot(1, 1, 1)\n",
    "ax.scatter(df['sepal_length'], df['sepal_width'])\n",
    "plt.show()"
   ]
  },
  {
   "cell_type": "markdown",
   "metadata": {},
   "source": [
    "### 1.5 Setting axes and plot titles\n",
    "We can add titles to both our axes and to the entire plot using these functions:\n",
    "- For axes:\n",
    "  - `set_xlabel`\n",
    "  - `set_ylabel`\n",
    "- For the figure:\n",
    "  - `suptitle`\n",
    "- For a subplot (axes):\n",
    "  - `set_title`\n",
    "\n",
    "As an example, let's add titles to the axes of the iris plot from the previous section:"
   ]
  },
  {
   "cell_type": "code",
   "execution_count": null,
   "metadata": {},
   "outputs": [],
   "source": [
    "# Create the scatterplot \n",
    "fig = plt.figure()\n",
    "ax = fig.add_subplot(1, 1, 1)\n",
    "ax.scatter(df['sepal_length'], df['sepal_width'])\n",
    "\n",
    "# Add axes titles\n",
    "ax.axes.set_xlabel('Iris Sepal Length')\n",
    "ax.axes.set_ylabel('Iris Sepal Width')\n",
    "\n",
    "# Show the plot with labels\n",
    "plt.show()"
   ]
  },
  {
   "cell_type": "markdown",
   "metadata": {},
   "source": [
    "Now let's add a title to our figure:"
   ]
  },
  {
   "cell_type": "code",
   "execution_count": null,
   "metadata": {},
   "outputs": [],
   "source": [
    "# Create the scatterplot \n",
    "fig = plt.figure()\n",
    "ax = fig.add_subplot(1, 1, 1)\n",
    "ax.scatter(df['sepal_length'], df['sepal_width'])\n",
    "\n",
    "# Add axes titles\n",
    "ax.axes.set_xlabel('Sepal Length')\n",
    "ax.axes.set_ylabel('Sepal Width')\n",
    "\n",
    "# Add a figure title\n",
    "ax.set_title('Iris Sepal length vs width')\n",
    "\n",
    "# Show the plot with labels\n",
    "plt.show()"
   ]
  },
  {
   "cell_type": "markdown",
   "metadata": {},
   "source": [
    "The `set_suptitle` is used to set a title to the figure when more than one subplot (axes) is present. We will see this function used in section 4 below."
   ]
  },
  {
   "cell_type": "markdown",
   "metadata": {},
   "source": [
    "#### 1.6. <i class=\"fas fa-puzzle-piece\"></i> Practice\n",
    "\n",
    "In the cell below notebook, perform the following.\n",
    "\n",
    "Create the a scatter plot using the iris data, but compare `petal_width` to `petal_length`.  Be sure to add labels to the axes.\n"
   ]
  },
  {
   "cell_type": "code",
   "execution_count": null,
   "metadata": {},
   "outputs": [],
   "source": [
    "# Create the scatterplot comparing petal_width to petal_length\n",
    "fig = plt.figure()\n",
    "ax = fig.add_subplot(1,1,1)\n",
    "ax.scatter(df['petal_width'], df['petal_length'])\n",
    "\n",
    "#Add axes titles\n",
    "ax.axes.set_xlabel('Petal width')\n",
    "ax.axes.set_ylabel('Petal length')\n",
    "\n",
    "#Add figure title\n",
    "ax.set_title('Iris petal width vs petal length')\n",
    "\n",
    "plt.show()\n",
    "\n",
    "# fig = plt.figure()\n",
    "# ax = fig.add_subplot(1, 1, 1)\n",
    "# ax.scatter(df['sepal_length'], df['sepal_width'])\n",
    "\n",
    "# # Add axes titles\n",
    "# ax.axes.set_xlabel('Sepal Length')\n",
    "# ax.axes.set_ylabel('Sepal Width')\n",
    "\n",
    "# # Add a figure title\n",
    "# ax.set_title('Iris Sepal length vs width')\n",
    "\n",
    "# # Show the plot with labels\n",
    "# plt.show()"
   ]
  },
  {
   "cell_type": "markdown",
   "metadata": {},
   "source": [
    "## 2. `Matplotlib` Tour\n",
    "\n",
    "The [pyplot tutorial](https://matplotlib.org/tutorials/introductory/pyplot.html#sphx-glr-tutorials-introductory-pyplot-py) provides a tour of `matplotlib` features, but it uses the `pyplot API` coding style.  In this section we show the same tour but using the object approach we've started above."
   ]
  },
  {
   "cell_type": "markdown",
   "metadata": {},
   "source": [
    "### 2.1 `plot()` basics\n",
    "\n",
    "The [plot function](https://matplotlib.org/api/_as_gen/matplotlib.pyplot.plot.html) draws lines and markers using a set of x and y coordinates.  Similar to the `add_subplot` function, there are multiple ways to call `plot()`.  The call signatures for `ax.plot()` are:\n",
    "\n",
    "```python\n",
    "plot([x], y, [fmt], data=None, **kwargs)\n",
    "plot([x], y, [fmt], [x2], y2, [fmt2], ..., **kwargs)\n",
    "```\n",
    "\n",
    "The first argument `x` should be an array of value. If it is a 1D array then the argument `y` must also be provided. If it is a 2D array then only `x` need be provided.  The `fmt` argument provides a \"code\" for the formatting of the data dispay. For example a value of `bo` would indicate that circles should be drawn in blue color. You can fine a complete list of formatting options in the **Notes** section of the [plot function](https://matplotlib.org/api/_as_gen/matplotlib.pyplot.plot.html) documentation.  Take a moment to review these.\n",
    "\n",
    "There are a large number of arguments that you can use to customize the plot. Take a moment to look at the **Other Parameters:** section of the [plot function](https://matplotlib.org/api/_as_gen/matplotlib.pyplot.plot.html) documentation.\n",
    "\n",
    "As described in documentation, these different calls allow for succinct calls to create plots:\n",
    "\n",
    "```python\n",
    "# Plot x and y using default line style and color.\n",
    "plot(x, y)        \n",
    "\n",
    "# Plot x and y using blue circle markers.\n",
    "plot(x, y, 'bo')  \n",
    "\n",
    "# Plot y using x as index array 0..N-1.\n",
    "plot(y)           \n",
    "\n",
    "# Ditto, but with red plusses.\n",
    "plot(y, 'r+')     \n",
    "```\n",
    "\n",
    "There are two styles for formatting the plot. The first method is to use the `fmt` argument. The second is to use explicit arguments. For example, compare these two calls to `plot()`.  They produce identical results.\n",
    "\n",
    "```python\n",
    "plot(x, y, 'go--', linewidth=2, markersize=12)\n",
    "plot(x, y, color='green', marker='o', linestyle='dashed',\n",
    "...      linewidth=2, markersize=12)\n",
    "```\n",
    "\n",
    "The more explicit versions are more readable, easily modified and converted to functions, but can take longer to write.  \n",
    "\n",
    "Below, a very simple call to `plot()` is demonstrated.  For this plot we draw a sequence of numbers: 1, 2, 3 and 4.  "
   ]
  },
  {
   "cell_type": "code",
   "execution_count": null,
   "metadata": {},
   "outputs": [],
   "source": [
    "fig = plt.figure()\n",
    "ax = fig.add_subplot(1, 1, 1)\n",
    "ax.plot([1, 2, 3, 4])\n",
    "ax.axes.set_ylabel('some numbers?')\n",
    "plt.show()"
   ]
  },
  {
   "cell_type": "markdown",
   "metadata": {},
   "source": [
    "`plot()` is a versatile command. Observe that we only gave one argument to the `plot()` function in the code above: the x-dimension. An automatic index is generated for the y-dimension: `[0, 1, 2, 3]`.\n",
    "\n",
    "We can provide an (optional) set of y values to be used as indexes."
   ]
  },
  {
   "cell_type": "code",
   "execution_count": null,
   "metadata": {},
   "outputs": [],
   "source": [
    "fig = plt.figure()\n",
    "ax = fig.add_subplot(1, 1, 1)\n",
    "ax.plot([1, 2, 3, 4], [1, 4, 9, 30], 'go--')\n",
    "plt.show()"
   ]
  },
  {
   "cell_type": "markdown",
   "metadata": {},
   "source": [
    "### 2.2 Style Basics\n",
    "\n",
    "Using `plot()`, we can also declare the style the points should be drawn. Below the call to `ax.plot()` is provided the argument`'ro'`. The change observed is instead of a blue line, we have red circles.  "
   ]
  },
  {
   "cell_type": "code",
   "execution_count": null,
   "metadata": {},
   "outputs": [],
   "source": [
    "fig = plt.figure()\n",
    "ax = fig.add_subplot(1, 1, 1)\n",
    "ax.plot([1, 2, 3, 4], [1, 4, 9, 16], 'ro--')\n",
    "plt.show()"
   ]
  },
  {
   "cell_type": "markdown",
   "metadata": {},
   "source": [
    "What do you suppose `'ro'` implies?  Take a look in the \"Notes\" section of the [plot documentation](https://matplotlib.org/api/_as_gen/matplotlib.pyplot.plot.html) to verify. \n",
    "\n",
    "Next we will plot multiple lines on the same plot.  To do this, let's create a list of numbers representing time, starting at 0 and ending at 5 seconds with an interval of every 0.2 seconds. "
   ]
  },
  {
   "cell_type": "code",
   "execution_count": null,
   "metadata": {},
   "outputs": [],
   "source": [
    "t = np.arange(0., 5., 0.2)\n",
    "t"
   ]
  },
  {
   "cell_type": "code",
   "execution_count": null,
   "metadata": {},
   "outputs": [],
   "source": [
    "b = np.arange(0, 5, 0.2)\n",
    "b"
   ]
  },
  {
   "cell_type": "markdown",
   "metadata": {},
   "source": [
    "To plot multiple lines, the call to `plot` can be expanded by providing multiple sets of x and y coordinates and respective formatting.  To demonstrate, we'll provide our array `t` as the x-axis and we'll re-use the `t` for three different y-axis coordinates: t, t^2 and t^3."
   ]
  },
  {
   "cell_type": "code",
   "execution_count": null,
   "metadata": {},
   "outputs": [],
   "source": [
    "fig = plt.figure()\n",
    "ax = fig.add_subplot(1, 1, 1)\n",
    "ax.plot(t, t, 'r--', t, t**2, 'bs', t, t**3, 'g^')\n",
    "plt.show()"
   ]
  },
  {
   "cell_type": "markdown",
   "metadata": {},
   "source": [
    "Observe in the call to `plot` above that the three sets of x and y coordinates are provide one after the other."
   ]
  },
  {
   "cell_type": "markdown",
   "metadata": {},
   "source": [
    "### 2.3 Plotting with dictionary labels\n",
    "\n",
    "Remember from the introdcution above it was recommended to convert your data into Numpy for plotting.  There are some exceptions, however, such as Python dictionaries, [Numpy recarray](https://docs.scipy.org/doc/numpy/reference/generated/numpy.recarray.html) (which we have not discussed) or Pandas dataframes can be used for plotting.  In such cases, you can use the keys (for dictionaries and Numpy recarray) or column labels (Pandas dataframes) to refer to data.  This reduces the need to convert your data to Numpy arrays.  \n",
    "\n",
    "**Note:** If Pandas data frames or dictionaries are not explicitly supported by a function, then default to using Numpy arrays.\n",
    "\n",
    "\n",
    "First let's generate some random data and store it in a Python dictionary.  The dictionary will consits of four Numpy arrays with the following keys:\n",
    "- \"a\": the x-coordiantes\n",
    "- \"b\": the y-coordinates\n",
    "- \"c\": the colors for the points\n",
    "- \"d\": the sizes for the points"
   ]
  },
  {
   "cell_type": "code",
   "execution_count": null,
   "metadata": {},
   "outputs": [],
   "source": [
    "data = {'a': np.arange(50),\n",
    "        'c': np.random.randint(0, 50, 50),\n",
    "        'd': np.random.randn(50)}\n",
    "data['b'] = data['a'] + 10 * np.random.randn(50)\n",
    "data['d'] = np.abs(data['d']) * 100\n",
    "data"
   ]
  },
  {
   "cell_type": "markdown",
   "metadata": {},
   "source": [
    "Now let's plot it. We can use the keys of the dictionary (e.g. \"a\", \"b\" or \"c\") to refer to the arrays we want for the x and y coordinates as well as for sizes of points! Here, we'll use `scatter()` to draw a scatterplot rather than `plot()`."
   ]
  },
  {
   "cell_type": "code",
   "execution_count": null,
   "metadata": {},
   "outputs": [],
   "source": [
    "fig = plt.figure()\n",
    "ax = fig.add_subplot(1, 1, 1)\n",
    "ax.scatter('a', 'b', c='c', s='d', data=data)\n",
    "ax.axes.set_ylabel('entry a')\n",
    "ax.axes.set_xlabel('entry b')\n",
    "plt.show()"
   ]
  },
  {
   "cell_type": "code",
   "execution_count": null,
   "metadata": {},
   "outputs": [],
   "source": [
    "fig = plt.figure()\n",
    "ax = fig.add_subplot(1, 1, 1)\n",
    "ax.scatter('a', 'b', s='c', c='d', data=data)\n",
    "ax.axes.set_ylabel('entry a')\n",
    "ax.axes.set_xlabel('entry b')\n",
    "plt.show()"
   ]
  },
  {
   "cell_type": "markdown",
   "metadata": {},
   "source": [
    "Note in the call to `scatter` above, we provided the dictionary (named `data`) as the `data` argument, and we gave the key names \"a\" and \"b\" as references for the x and y coordinate data.  What do you think the `c` and `s` arguments are for?"
   ]
  },
  {
   "cell_type": "raw",
   "metadata": {},
   "source": [
    "C is for a list of colors\n",
    "s is for marker size"
   ]
  },
  {
   "cell_type": "markdown",
   "metadata": {},
   "source": [
    "### 2.4 Colors\n",
    "\n",
    "In the previous section we provided a set of numbers as colors for the points in the scatterplot.  There are a variety of methods for specifying colors to matplotlib and we leave this to you to explore as needed. The most simple way to provide colors is using the color abbreviations we learned when we examined the `plot` function. To learn more about colors, the [color demo](https://matplotlib.org/gallery/color/color_demo.html)  provides an introduction to the variety of ways in which colors can be provided."
   ]
  },
  {
   "cell_type": "markdown",
   "metadata": {},
   "source": [
    "### 2.5. <i class=\"fas fa-puzzle-piece\"></i> Practice\n",
    "\n",
    "In the cell below notebook, perform the following.\n",
    "\n",
    "Create a scatter plot using the iris data frame. Do not convert the data frame columns to numpy arrays. Rather use the dataframe as is. Be sure to:\n",
    "- plot `petal_length` vs `petal_width`.\n",
    "- Use column names to specify the x and y coordinates (don't pass in Numpy arrays)\n",
    "- Color each dot by the species (you'll need to be creative to do this).\n",
    "  - Hint 1: use the [pd.Series.replace](https://pandas.pydata.org/pandas-docs/stable/reference/api/pandas.Series.replace.html) function to convert species names to colors). \n",
    "  - Hint 2: Use the color abbreviations we learned for the the plot function (e.g. 'r', 'b', 'g', etc.).\n",
    "- Add axis labels"
   ]
  },
  {
   "cell_type": "code",
   "execution_count": null,
   "metadata": {},
   "outputs": [],
   "source": [
    "iris = pd.read_csv('data/iris.csv', delimiter = ',')\n",
    "iris.head()"
   ]
  },
  {
   "cell_type": "code",
   "execution_count": null,
   "metadata": {},
   "outputs": [],
   "source": [
    "iris.dtypes"
   ]
  },
  {
   "cell_type": "code",
   "execution_count": null,
   "metadata": {},
   "outputs": [],
   "source": [
    "iris.describe()"
   ]
  },
  {
   "cell_type": "code",
   "execution_count": null,
   "metadata": {},
   "outputs": [],
   "source": [
    "iris['species'].unique()"
   ]
  },
  {
   "cell_type": "code",
   "execution_count": null,
   "metadata": {},
   "outputs": [],
   "source": [
    "# species_number = {'1':'setosa', '2':'versicolor', '3':'virginica'}\n",
    "# iris['species_number'] = species_number\n",
    "# #didn't work"
   ]
  },
  {
   "cell_type": "code",
   "execution_count": null,
   "metadata": {},
   "outputs": [],
   "source": [
    "iris['species_num'] = iris['species'].replace(to_replace=('setosa','versicolor','virginica'),value = (1,2,3))\n",
    "iris"
   ]
  },
  {
   "cell_type": "code",
   "execution_count": null,
   "metadata": {},
   "outputs": [],
   "source": [
    "bloop = pd.DataFrame({'A': [0, 1, 2, 3, 4,0],\n",
    "                   'B': [5, 6, 7, 8, 9,0],\n",
    "                   'C': ['a', 'b', 'c', 'd', 'e',0]})\n",
    "bloop.replace(0,5, inplace=False)"
   ]
  },
  {
   "cell_type": "code",
   "execution_count": null,
   "metadata": {},
   "outputs": [],
   "source": [
    "fig = plt.figure()\n",
    "ax = fig.add_subplot(1,1,1)\n",
    "# np.random.seed(19680801)\n",
    "# N = 150\n",
    "# area = (20 * np.random.rand(N))**2\n",
    "e = np.sqrt(area)\n",
    "ax.scatter('petal_length','petal_width', c='species_num', data=iris)\n",
    "ax.axes.set_xlabel('petal length')\n",
    "ax.axes.set_ylabel('petal width')\n",
    "plt.show()"
   ]
  },
  {
   "cell_type": "code",
   "execution_count": null,
   "metadata": {},
   "outputs": [],
   "source": [
    "d"
   ]
  },
  {
   "cell_type": "markdown",
   "metadata": {},
   "source": [
    "## 3. Categorical (`string`) Plotting\n",
    "\n",
    "We can pass categorical data stored as strings to many plotting functions.  To demonstrate this, let's first, create some simple data to plot:"
   ]
  },
  {
   "cell_type": "code",
   "execution_count": null,
   "metadata": {},
   "outputs": [],
   "source": [
    "names = ['group a', 'group b', 'group c']\n",
    "values = [1, 10, 100]\n",
    "names"
   ]
  },
  {
   "cell_type": "markdown",
   "metadata": {},
   "source": [
    "Now, let's use that data to make three different plots: a bar graph, scatterplot and line chart.  "
   ]
  },
  {
   "cell_type": "code",
   "execution_count": null,
   "metadata": {},
   "outputs": [],
   "source": [
    "# Create a figure object.\n",
    "fig = plt.figure(figsize=(15, 5))\n",
    "\n",
    "# Add three subplot axes to the figure.\n",
    "ax1 = fig.add_subplot(1, 3, 1)\n",
    "ax2 = fig.add_subplot(1, 3, 2)\n",
    "ax3 = fig.add_subplot(1, 3, 3)\n",
    "\n",
    "# Add a bargraph, scatterplot and line plot to each\n",
    "# axes respectively.\n",
    "ax1.bar(names, values)\n",
    "ax2.scatter(names, values)\n",
    "ax3.plot(names, values)\n",
    "\n",
    "# Add a title to the figure.\n",
    "fig.suptitle('Categorical Plotting')\n",
    "\n",
    "# Cleanly show the plot.\n",
    "plt.show()"
   ]
  },
  {
   "cell_type": "code",
   "execution_count": null,
   "metadata": {},
   "outputs": [],
   "source": [
    "# Create a figure object.\n",
    "fig = plt.figure(figsize=(15, 5))\n",
    "\n",
    "# Add three subplot axes to the figure.\n",
    "ax1 = fig.add_subplot(1, 3, 1)\n",
    "ax2 = fig.add_subplot(1, 3, 2)\n",
    "ax3 = fig.add_subplot(1, 3, 3)\n",
    "\n",
    "# Add a bargraph, scatterplot and line plot to each\n",
    "# axes respectively.\n",
    "ax1.bar(names, values)\n",
    "ax2.scatter(names, values)\n",
    "ax3.plot(names, values)\n",
    "\n",
    "# Add a title to the figure.\n",
    "fig.suptitle('Categorical Plotting')\n",
    "\n",
    "# Cleanly show the plot.\n",
    "plt.show()"
   ]
  },
  {
   "cell_type": "markdown",
   "metadata": {},
   "source": [
    "Notice that the categories are provided as what would normally be the x-axis numerical values. The x-axis labels are automatically set as the category names."
   ]
  },
  {
   "cell_type": "markdown",
   "metadata": {},
   "source": [
    "#### 3.1. <i class=\"fas fa-puzzle-piece\"></i> Practice\n",
    "\n",
    "In the cell below notebook, perform the following.\n",
    "\n",
    "Create a bar graph that indicates the mean sepal_height of each subspecies.\n"
   ]
  },
  {
   "cell_type": "code",
   "execution_count": null,
   "metadata": {},
   "outputs": [],
   "source": [
    "iris['sepal_length'].mean()"
   ]
  },
  {
   "cell_type": "code",
   "execution_count": null,
   "metadata": {},
   "outputs": [],
   "source": [
    "# Create a figure object.\n",
    "fig = plt.figure(figsize=(15, 5))\n",
    "\n",
    "# Add three subplot axes to the figure.\n",
    "ax = fig.add_subplot(1, 1, 1)"
   ]
  },
  {
   "cell_type": "markdown",
   "metadata": {},
   "source": [
    "## 4. Intermission -- Coding Sytle\n",
    "\n",
    "Now is perhaps a good time to see an example for the difference between the Pyplot API and the object-oriented. The following code is from the `pyplot API` tutorial and generates a plot identical to that shown in the previous section. It generates a figure with 1x3 subplots containing a bar graph, scatterplot and line chart respectively:\n",
    "\n",
    "```python\n",
    "plt.figure(1, figsize=(9, 3))\n",
    "\n",
    "plt.subplot(131)\n",
    "plt.bar(names, values)\n",
    "plt.subplot(132)\n",
    "plt.scatter(names, values)\n",
    "plt.subplot(133)\n",
    "plt.plot(names, values)\n",
    "plt.suptitle('Categorical Plotting')\n",
    "plt.show()\n",
    "```\n",
    "\n",
    "Notice that the `plt` library is used as a prefix for all functions.  This is possible because matplotlib's Pyplot API is a \"state-machine\". You may remember this term from the \"Getting Started\" section above.  One way to conceptualize plotting using the Pylot API is to imagine an invisible figure that is \"hidden\" until you plot it.  Any function call using the Pylot API acts on that invisible figure.  This is why some examples can skip right to setting axes without even creating a figure! But it requires that we do things in a particular order. Notice that an axes is created then plotted on, then the next axes, and so forth. In comparison, with the object-oriented approach we can apply functions to any object at any time we want, and in the end becomes less confusing, and there is less for our brains to keep track of, especially if we are working on more than one figure at at time."
   ]
  },
  {
   "cell_type": "markdown",
   "metadata": {},
   "source": [
    "## 5. Multiple Axes\n",
    "\n",
    "In section 4 we saw an example of a figure with more than one subplot (axes).  Here we will provide more details. Often we will want to have related plots in one figure. Let's use some data and function found in the official tutorial.  First let's create two Numpy arrays containing a range of numbers."
   ]
  },
  {
   "cell_type": "code",
   "execution_count": null,
   "metadata": {},
   "outputs": [],
   "source": [
    "t1 = np.arange(0.0, 5.0, 0.1)\n",
    "t2 = np.arange(0.0, 5.0, 0.02)"
   ]
  },
  {
   "cell_type": "code",
   "execution_count": null,
   "metadata": {},
   "outputs": [],
   "source": [
    "t1"
   ]
  },
  {
   "cell_type": "code",
   "execution_count": null,
   "metadata": {},
   "outputs": [],
   "source": [
    "t2"
   ]
  },
  {
   "cell_type": "markdown",
   "metadata": {},
   "source": [
    "Next, let's create a function that will recieve a value and adjusts it by using various Numpy functions and values: `np.exp()`, `np.cos()` and `np.pi`."
   ]
  },
  {
   "cell_type": "code",
   "execution_count": null,
   "metadata": {},
   "outputs": [],
   "source": [
    "def f(t):\n",
    "    return np.exp(-t) * np.cos(2*np.pi*t)"
   ]
  },
  {
   "cell_type": "markdown",
   "metadata": {},
   "source": [
    "Let's use these data to plot a figure with 2 rows and 1 column of plots using the data we just created. To do this we call the `add_subplot` function two times. Both times we must specify the same `nrows` and `ncols` arguments. But, the third argument, the `index`, we increment for each subplot:"
   ]
  },
  {
   "cell_type": "code",
   "execution_count": null,
   "metadata": {},
   "outputs": [],
   "source": [
    "# Create a figure object\n",
    "fig = plt.figure()\n",
    "\n",
    "# Create the two axes (subplots)\n",
    "ax1 = fig.add_subplot(3, 1, 1)\n",
    "ax2 = fig.add_subplot(3, 1, 2)\n",
    "ax3 = fig.add_subplot(3, 1, 3)\n",
    "\n",
    "# Plot the t1 data as the x-coordinates and use the f() function\n",
    "# to calculate the y-cooordinates.\n",
    "ax1.plot(t1, f(t1), 'gp', t2, f(t2), ':k')\n",
    "ax3.plot(t1, f(t1), 'bo', t2, f(t2), 'k')\n",
    "\n",
    "# For the second plot, provide the t2 data as the x-coordinates and\n",
    "# calcalute new y-coorindate values.\n",
    "ax2.plot(t2, np.cos(2*np.pi*t2), 'r--')\n",
    "\n",
    "# Show a clean plot\n",
    "plt.show()"
   ]
  },
  {
   "cell_type": "markdown",
   "metadata": {},
   "source": [
    "Take a moment to ensure that you understand every function call, argument and object used in the code above.  Ask a question if you are unsure of anything."
   ]
  },
  {
   "cell_type": "markdown",
   "metadata": {},
   "source": [
    "### 5.1 Using the `subplots` function\n",
    "\n",
    "*Note the plural form!*\n",
    "\n",
    "We can create an identical figure as shown above using the [subplots function](https://matplotlib.org/api/_as_gen/matplotlib.figure.Figure.html#matplotlib.figure.Figure.subplots). This is a convenience function that allows us to create all of the axes in one function call. For example, suppose we want to create a 2x2 figure:"
   ]
  },
  {
   "cell_type": "code",
   "execution_count": null,
   "metadata": {},
   "outputs": [],
   "source": [
    "fig = plt.figure()\n",
    "axes = fig.subplots(2, 2)"
   ]
  },
  {
   "cell_type": "markdown",
   "metadata": {},
   "source": [
    "An empty 2 by 2 figure appears. We can examine the `axes` object and see what `type` of object it is:"
   ]
  },
  {
   "cell_type": "code",
   "execution_count": null,
   "metadata": {},
   "outputs": [],
   "source": [
    "type(axes)"
   ]
  },
  {
   "cell_type": "markdown",
   "metadata": {},
   "source": [
    "A `numpy` array of axes is given. We can then use the `numpy` attribute and accessors with this axes list. For example to get the shape:"
   ]
  },
  {
   "cell_type": "code",
   "execution_count": null,
   "metadata": {},
   "outputs": [],
   "source": [
    "axes.shape"
   ]
  },
  {
   "cell_type": "markdown",
   "metadata": {},
   "source": [
    "And to access a given axis, such as in the upper-right corner:"
   ]
  },
  {
   "cell_type": "code",
   "execution_count": null,
   "metadata": {},
   "outputs": [],
   "source": [
    "axes[0,1]"
   ]
  },
  {
   "cell_type": "markdown",
   "metadata": {},
   "source": [
    "Now, let's plot some data in the upper-left corner.  We can do this by accessing the corresponding axes object in the `axes` Numpy array (which is a 2x2 array).  The upper left-corner is indexed as `axes[0, 0]`: "
   ]
  },
  {
   "cell_type": "code",
   "execution_count": null,
   "metadata": {},
   "outputs": [],
   "source": [
    "# Generate some random data to plot\n",
    "x = np.random.randn(50)\n",
    "\n",
    "# Plot the data in the first subplot cell:\n",
    "fig = plt.figure()\n",
    "axes = fig.subplots(2, 2)\n",
    "axes[0, 0].plot(x,x)\n",
    "axes[0, 1].plot(d)\n",
    "plt.show()"
   ]
  },
  {
   "cell_type": "markdown",
   "metadata": {},
   "source": [
    "Just like with any typical Python library, there are shortcuts.  We can bypass the step of first creating a `figure` object by allowing the `subplots` to do it for us. Here we use the Pyplot API to retreive the fig and axes objects all in one step."
   ]
  },
  {
   "cell_type": "code",
   "execution_count": null,
   "metadata": {},
   "outputs": [],
   "source": [
    "fig, axes = plt.subplots(2, 2)\n",
    "axes[0, 0].plot(x)\n",
    "plt.show()"
   ]
  },
  {
   "cell_type": "markdown",
   "metadata": {},
   "source": [
    "### 5.2. <i class=\"fas fa-puzzle-piece\"></i> Practice\n",
    "\n",
    "In the cell below notebook, perform the following.\n",
    "\n",
    "\n",
    "Create 4 scatterplots for the iris data all in one figure. The figure should include scatterplots of these comparisions:\n",
    "- `sepal_length` x `petal_length`\n",
    "- `sepal_length` x `petal_width`\n",
    "- `sepal_width` x `petal_length`\n",
    "- `sepal_width` x `petal_width`\n",
    "\n",
    "Be sure that:\n",
    "- the points for the species \n",
    "- the axes for each plot are labeled\n",
    "- the figure has a label."
   ]
  },
  {
   "cell_type": "code",
   "execution_count": 6,
   "metadata": {},
   "outputs": [
    {
     "data": {
      "text/html": [
       "<div>\n",
       "<style scoped>\n",
       "    .dataframe tbody tr th:only-of-type {\n",
       "        vertical-align: middle;\n",
       "    }\n",
       "\n",
       "    .dataframe tbody tr th {\n",
       "        vertical-align: top;\n",
       "    }\n",
       "\n",
       "    .dataframe thead th {\n",
       "        text-align: right;\n",
       "    }\n",
       "</style>\n",
       "<table border=\"1\" class=\"dataframe\">\n",
       "  <thead>\n",
       "    <tr style=\"text-align: right;\">\n",
       "      <th></th>\n",
       "      <th>sepal_length</th>\n",
       "      <th>sepal_width</th>\n",
       "      <th>petal_length</th>\n",
       "      <th>petal_width</th>\n",
       "      <th>species</th>\n",
       "    </tr>\n",
       "  </thead>\n",
       "  <tbody>\n",
       "    <tr>\n",
       "      <th>0</th>\n",
       "      <td>5.1</td>\n",
       "      <td>3.5</td>\n",
       "      <td>1.4</td>\n",
       "      <td>0.2</td>\n",
       "      <td>setosa</td>\n",
       "    </tr>\n",
       "    <tr>\n",
       "      <th>1</th>\n",
       "      <td>4.9</td>\n",
       "      <td>3.0</td>\n",
       "      <td>1.4</td>\n",
       "      <td>0.2</td>\n",
       "      <td>setosa</td>\n",
       "    </tr>\n",
       "    <tr>\n",
       "      <th>2</th>\n",
       "      <td>4.7</td>\n",
       "      <td>3.2</td>\n",
       "      <td>1.3</td>\n",
       "      <td>0.2</td>\n",
       "      <td>setosa</td>\n",
       "    </tr>\n",
       "    <tr>\n",
       "      <th>3</th>\n",
       "      <td>4.6</td>\n",
       "      <td>3.1</td>\n",
       "      <td>1.5</td>\n",
       "      <td>0.2</td>\n",
       "      <td>setosa</td>\n",
       "    </tr>\n",
       "    <tr>\n",
       "      <th>4</th>\n",
       "      <td>5.0</td>\n",
       "      <td>3.6</td>\n",
       "      <td>1.4</td>\n",
       "      <td>0.2</td>\n",
       "      <td>setosa</td>\n",
       "    </tr>\n",
       "  </tbody>\n",
       "</table>\n",
       "</div>"
      ],
      "text/plain": [
       "   sepal_length  sepal_width  petal_length  petal_width species\n",
       "0           5.1          3.5           1.4          0.2  setosa\n",
       "1           4.9          3.0           1.4          0.2  setosa\n",
       "2           4.7          3.2           1.3          0.2  setosa\n",
       "3           4.6          3.1           1.5          0.2  setosa\n",
       "4           5.0          3.6           1.4          0.2  setosa"
      ]
     },
     "execution_count": 6,
     "metadata": {},
     "output_type": "execute_result"
    }
   ],
   "source": [
    "grouped = iris.groupby('species')\n",
    "iris.head()"
   ]
  },
  {
   "cell_type": "code",
   "execution_count": 7,
   "metadata": {},
   "outputs": [
    {
     "data": {
      "image/png": "[encoded data removed]",
      "text/plain": [
       "<Figure size 1500x1000 with 4 Axes>"
      ]
     },
     "metadata": {},
     "output_type": "display_data"
    }
   ],
   "source": [
    "fig, axes = plt.subplots(2, 2, figsize=(15,10))\n",
    "\n",
    "axes[0,0].plot(iris['sepal_length'],iris['petal_length'], 'go')\n",
    "axes[0,0].set_xlabel('sepal length')\n",
    "axes[0,0].set_ylabel('petal length')\n",
    "\n",
    "axes[0,1].plot(iris['sepal_length'],iris['petal_width'], 'ro')\n",
    "axes[0,1].set_xlabel('sepal length')\n",
    "axes[0,1].set_ylabel('petal width')\n",
    "\n",
    "axes[1,0].plot(iris['sepal_width'],iris['petal_length'], 'bo')\n",
    "axes[1,0].set_xlabel('sepal width')\n",
    "axes[1,0].set_ylabel('petal length')\n",
    "\n",
    "axes[1,1].plot(iris['sepal_width'],iris['petal_width'], 'yo')\n",
    "axes[1,1].set_xlabel('sepal width')\n",
    "axes[1,1].set_ylabel('petal width')\n",
    "\n",
    "fig.suptitle('Iris subspecies features')\n",
    "plt.show()"
   ]
  },
  {
   "cell_type": "code",
   "execution_count": 27,
   "metadata": {},
   "outputs": [
    {
     "ename": "AttributeError",
     "evalue": "'DataFrameGroupBy' object has no attribute 'ax'",
     "output_type": "error",
     "traceback": [
      "\u001b[1;31m---------------------------------------------------------------------------\u001b[0m",
      "\u001b[1;31mAttributeError\u001b[0m                            Traceback (most recent call last)",
      "\u001b[1;32m~\\AppData\\Local\\Temp\\ipykernel_35296\\2357369843.py\u001b[0m in \u001b[0;36m<module>\u001b[1;34m\u001b[0m\n\u001b[0;32m      3\u001b[0m \u001b[0mfig\u001b[0m \u001b[1;33m=\u001b[0m \u001b[0mplt\u001b[0m\u001b[1;33m.\u001b[0m\u001b[0mfigure\u001b[0m\u001b[1;33m(\u001b[0m\u001b[1;33m)\u001b[0m\u001b[1;33m\u001b[0m\u001b[1;33m\u001b[0m\u001b[0m\n\u001b[0;32m      4\u001b[0m \u001b[0max\u001b[0m \u001b[1;33m=\u001b[0m \u001b[0mfig\u001b[0m\u001b[1;33m.\u001b[0m\u001b[0madd_subplot\u001b[0m\u001b[1;33m(\u001b[0m\u001b[1;36m1\u001b[0m\u001b[1;33m,\u001b[0m \u001b[1;36m1\u001b[0m\u001b[1;33m,\u001b[0m \u001b[1;36m1\u001b[0m\u001b[1;33m)\u001b[0m\u001b[1;33m\u001b[0m\u001b[1;33m\u001b[0m\u001b[0m\n\u001b[1;32m----> 5\u001b[1;33m \u001b[0miris\u001b[0m\u001b[1;33m.\u001b[0m\u001b[0mgroupby\u001b[0m\u001b[1;33m(\u001b[0m\u001b[1;34m'species'\u001b[0m\u001b[1;33m)\u001b[0m\u001b[1;33m.\u001b[0m\u001b[0max\u001b[0m\u001b[1;33m.\u001b[0m\u001b[0mplot\u001b[0m\u001b[1;33m(\u001b[0m\u001b[0miris\u001b[0m\u001b[1;33m[\u001b[0m\u001b[1;34m'sepal_length'\u001b[0m\u001b[1;33m]\u001b[0m\u001b[1;33m,\u001b[0m\u001b[0miris\u001b[0m\u001b[1;33m[\u001b[0m\u001b[1;34m'sepal_width'\u001b[0m\u001b[1;33m]\u001b[0m\u001b[1;33m,\u001b[0m \u001b[1;34m'go'\u001b[0m\u001b[1;33m)\u001b[0m\u001b[1;33m\u001b[0m\u001b[1;33m\u001b[0m\u001b[0m\n\u001b[0m",
      "\u001b[1;32mC:\\ProgramData\\Anaconda3\\lib\\site-packages\\pandas\\core\\groupby\\groupby.py\u001b[0m in \u001b[0;36m__getattr__\u001b[1;34m(self, attr)\u001b[0m\n\u001b[0;32m    902\u001b[0m             \u001b[1;32mreturn\u001b[0m \u001b[0mself\u001b[0m\u001b[1;33m[\u001b[0m\u001b[0mattr\u001b[0m\u001b[1;33m]\u001b[0m\u001b[1;33m\u001b[0m\u001b[1;33m\u001b[0m\u001b[0m\n\u001b[0;32m    903\u001b[0m \u001b[1;33m\u001b[0m\u001b[0m\n\u001b[1;32m--> 904\u001b[1;33m         raise AttributeError(\n\u001b[0m\u001b[0;32m    905\u001b[0m             \u001b[1;34mf\"'{type(self).__name__}' object has no attribute '{attr}'\"\u001b[0m\u001b[1;33m\u001b[0m\u001b[1;33m\u001b[0m\u001b[0m\n\u001b[0;32m    906\u001b[0m         )\n",
      "\u001b[1;31mAttributeError\u001b[0m: 'DataFrameGroupBy' object has no attribute 'ax'"
     ]
    },
    {
     "data": {
      "image/png": "[encoded data removed]",
      "text/plain": [
       "<Figure size 640x480 with 1 Axes>"
      ]
     },
     "metadata": {},
     "output_type": "display_data"
    }
   ],
   "source": [
    "#iris.groupby('species_num')['petal_length']\n",
    "#iris.groupby('species')['sepal_length'].plot() \n",
    "fig = plt.figure()\n",
    "ax = fig.add_subplot(1, 1, 1)\n",
    "iris.groupby('species').ax.plot(iris['sepal_length'],iris['sepal_width'], 'go') \n"
   ]
  },
  {
   "cell_type": "markdown",
   "metadata": {},
   "source": [
    "## 6. Non-Linear Axes\n",
    "\n",
    "Often, we need logarithmic values and other non-linear orderings for our plot axes.  We can do this using the `set_yscale` and `set_xscale` functions. To demonstrate this, let's first create some data:"
   ]
  },
  {
   "cell_type": "code",
   "execution_count": null,
   "metadata": {},
   "outputs": [],
   "source": [
    "# Fix the random seed so we can reproduce the same random numbers every time.\n",
    "np.random.seed(19680801)\n",
    "\n",
    "# Create some random x and y-coordinate data between the interval ]0, 1[\n",
    "y = np.random.normal(loc=0.5, scale=0.4, size=1000)\n",
    "y = y[(y > 0) & (y < 1)]\n",
    "y.sort()\n",
    "x = np.arange(len(y))"
   ]
  },
  {
   "cell_type": "markdown",
   "metadata": {},
   "source": [
    "Now let's make four different plots of the same data but using different y scales: linear, log, symlog, and logit:"
   ]
  },
  {
   "cell_type": "code",
   "execution_count": null,
   "metadata": {},
   "outputs": [],
   "source": [
    "# Create the figure and a 2x2 grid of axes.\n",
    "fig, axes = plt.subplots(2, 2)\n",
    "\n",
    "# Plot data to those axes.\n",
    "axes[0, 0].plot(x, y)\n",
    "axes[0, 1].plot(x, y)\n",
    "axes[1, 0].plot(x, y - y.mean())\n",
    "axes[1, 1].plot(x, y)\n",
    "\n",
    "# Set (change default) scales, and enable a grid, for each axes.\n",
    "axes[0, 0].set_yscale('linear')\n",
    "axes[0, 0].set_title('linear')\n",
    "axes[0, 0].grid(True)\n",
    "\n",
    "axes[0, 1].set_yscale('log')\n",
    "axes[0, 1].set_title('log')\n",
    "axes[0, 1].grid(True)\n",
    "\n",
    "axes[1, 0].set_yscale('symlog')\n",
    "axes[1, 0].set_title('symlog')\n",
    "axes[1, 0].grid(True)\n",
    "\n",
    "axes[1, 1].set_yscale('logit')\n",
    "axes[1, 1].set_title('logit')\n",
    "axes[1, 1].grid(True)\n",
    "\n",
    "# Add a title for the full figure.\n",
    "fig.suptitle('Non-linear Axes Demo')\n",
    "\n",
    "# Nice automatic spacing.\n",
    "plt.tight_layout()  \n",
    "\n",
    "# Show the plot.\n",
    "plt.show()"
   ]
  },
  {
   "cell_type": "markdown",
   "metadata": {},
   "source": [
    "Explore the function calls, objects and arugments of the code above. Do you understand it all?  If not, consult the online documentation or ask a question."
   ]
  },
  {
   "cell_type": "markdown",
   "metadata": {},
   "source": [
    "## 7. Saving your Figures\n",
    "Once your plot is to your liking you can easily save your plots using the `plt.savefig` command. For example:\n"
   ]
  },
  {
   "cell_type": "code",
   "execution_count": null,
   "metadata": {},
   "outputs": [],
   "source": [
    "fig = plt.figure()\n",
    "ax = fig.add_subplot(1, 1, 1)\n",
    "ax.scatter('a', 'b', c='c', s='d', data=data)\n",
    "ax.axes.set_ylabel('entry a')\n",
    "ax.axes.set_xlabel('entry b')\n",
    "plt.show()\n",
    "plt.savefig(\"figure7.png\", format=\"png\", dpi=72)"
   ]
  },
  {
   "cell_type": "markdown",
   "metadata": {},
   "source": [
    "Observe the arguments. First is the path and file name for the image.  The `format` argument specifies the image format which can include the following types: `png`, `pdf`, `ps`, `eps` and `svg`. Finally, is the `dpi` or \"dots per inch\".  Most journals expect that images are generated in at least 300 dpi for publication, but increasing the dpi increases the size of your image.  Therefore, for testing and sharing of images use a smaller dpi like 72, for publication use a dpi of 300 or greater.  You can learn more about the `savefig` function at the [online documentation](https://matplotlib.org/3.1.1/api/_as_gen/matplotlib.pyplot.savefig.html)"
   ]
  },
  {
   "cell_type": "markdown",
   "metadata": {},
   "source": [
    "## Expected Outcomes\n",
    "At this point, you should feel comfortable with the following:\n",
    "- Using the Figure object \n",
    "- The parts of a Matplotlib figure\n",
    "- Styling a figure\n",
    "- Categorical plotting\n",
    "- Plots with multiple axes\n",
    "- Non-linear axes."
   ]
  },
  {
   "cell_type": "markdown",
   "metadata": {},
   "source": [
    "## What to Turn in?\n",
    "Be sure to **commit** and **push** your changes to this notebook.  All practice exercises should be completed.  Once completed, send a **Slack message** to the instructor indicating you have completed this assignment. The instructor will verify all work is completed. "
   ]
  }
 ],
 "metadata": {
  "kernelspec": {
   "display_name": "Python 3 (ipykernel)",
   "language": "python",
   "name": "python3"
  },
  "language_info": {
   "codemirror_mode": {
    "name": "ipython",
    "version": 3
   },
   "file_extension": ".py",
   "mimetype": "text/x-python",
   "name": "python",
   "nbconvert_exporter": "python",
   "pygments_lexer": "ipython3",
   "version": "3.9.7"
  }
 },
 "nbformat": 4,
 "nbformat_minor": 4
}
